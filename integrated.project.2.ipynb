{
 "cells": [
  {
   "cell_type": "markdown",
   "metadata": {},
   "source": [
    "# Predicting Gold Recovery from Ore Processing Data"
   ]
  },
  {
   "cell_type": "markdown",
   "metadata": {},
   "source": [
    "This project aims to help Zyfra improve gold recovery by predicting how much gold can be extracted from ore. We'll use data from different stages of the extraction and purification process to build a machine learning model. The goal is to make production more efficient and avoid losses. \n",
    "\n",
    "Heather Marie Culligan\n",
    "\n",
    "March 2025"
   ]
  },
  {
   "cell_type": "code",
   "execution_count": 1,
   "metadata": {},
   "outputs": [],
   "source": [
    "import pandas as pd\n",
    "import numpy as np\n",
    "import seaborn as sns\n",
    "from matplotlib import pyplot as plt\n",
    "from sklearn.model_selection import train_test_split, cross_val_score, GridSearchCV\n",
    "from sklearn.linear_model import LogisticRegression, LinearRegression\n",
    "from sklearn.ensemble import RandomForestClassifier, RandomForestRegressor\n",
    "from sklearn.metrics import mean_absolute_error\n",
    "from sklearn.multioutput import MultiOutputRegressor"
   ]
  },
  {
   "cell_type": "code",
   "execution_count": 2,
   "metadata": {},
   "outputs": [],
   "source": [
    "train_df = pd.read_csv('/datasets/gold_recovery_train.csv')\n",
    "test_df =pd.read_csv('/datasets/gold_recovery_test.csv')\n",
    "full_df =pd.read_csv('/datasets/gold_recovery_full.csv')"
   ]
  },
  {
   "cell_type": "markdown",
   "metadata": {},
   "source": [
    "Great, now all the needed libraries are imported and the files are loaded in, let's start looking at the dataframes and check for missing values."
   ]
  },
  {
   "cell_type": "code",
   "execution_count": 3,
   "metadata": {
    "scrolled": true
   },
   "outputs": [
    {
     "name": "stdout",
     "output_type": "stream",
     "text": [
      "<class 'pandas.core.frame.DataFrame'>\n",
      "RangeIndex: 16860 entries, 0 to 16859\n",
      "Data columns (total 87 columns):\n",
      " #   Column                                              Non-Null Count  Dtype  \n",
      "---  ------                                              --------------  -----  \n",
      " 0   date                                                16860 non-null  object \n",
      " 1   final.output.concentrate_ag                         16788 non-null  float64\n",
      " 2   final.output.concentrate_pb                         16788 non-null  float64\n",
      " 3   final.output.concentrate_sol                        16490 non-null  float64\n",
      " 4   final.output.concentrate_au                         16789 non-null  float64\n",
      " 5   final.output.recovery                               15339 non-null  float64\n",
      " 6   final.output.tail_ag                                16794 non-null  float64\n",
      " 7   final.output.tail_pb                                16677 non-null  float64\n",
      " 8   final.output.tail_sol                               16715 non-null  float64\n",
      " 9   final.output.tail_au                                16794 non-null  float64\n",
      " 10  primary_cleaner.input.sulfate                       15553 non-null  float64\n",
      " 11  primary_cleaner.input.depressant                    15598 non-null  float64\n",
      " 12  primary_cleaner.input.feed_size                     16860 non-null  float64\n",
      " 13  primary_cleaner.input.xanthate                      15875 non-null  float64\n",
      " 14  primary_cleaner.output.concentrate_ag               16778 non-null  float64\n",
      " 15  primary_cleaner.output.concentrate_pb               16502 non-null  float64\n",
      " 16  primary_cleaner.output.concentrate_sol              16224 non-null  float64\n",
      " 17  primary_cleaner.output.concentrate_au               16778 non-null  float64\n",
      " 18  primary_cleaner.output.tail_ag                      16777 non-null  float64\n",
      " 19  primary_cleaner.output.tail_pb                      16761 non-null  float64\n",
      " 20  primary_cleaner.output.tail_sol                     16579 non-null  float64\n",
      " 21  primary_cleaner.output.tail_au                      16777 non-null  float64\n",
      " 22  primary_cleaner.state.floatbank8_a_air              16820 non-null  float64\n",
      " 23  primary_cleaner.state.floatbank8_a_level            16827 non-null  float64\n",
      " 24  primary_cleaner.state.floatbank8_b_air              16820 non-null  float64\n",
      " 25  primary_cleaner.state.floatbank8_b_level            16833 non-null  float64\n",
      " 26  primary_cleaner.state.floatbank8_c_air              16822 non-null  float64\n",
      " 27  primary_cleaner.state.floatbank8_c_level            16833 non-null  float64\n",
      " 28  primary_cleaner.state.floatbank8_d_air              16821 non-null  float64\n",
      " 29  primary_cleaner.state.floatbank8_d_level            16833 non-null  float64\n",
      " 30  rougher.calculation.sulfate_to_au_concentrate       16833 non-null  float64\n",
      " 31  rougher.calculation.floatbank10_sulfate_to_au_feed  16833 non-null  float64\n",
      " 32  rougher.calculation.floatbank11_sulfate_to_au_feed  16833 non-null  float64\n",
      " 33  rougher.calculation.au_pb_ratio                     15618 non-null  float64\n",
      " 34  rougher.input.feed_ag                               16778 non-null  float64\n",
      " 35  rougher.input.feed_pb                               16632 non-null  float64\n",
      " 36  rougher.input.feed_rate                             16347 non-null  float64\n",
      " 37  rougher.input.feed_size                             16443 non-null  float64\n",
      " 38  rougher.input.feed_sol                              16568 non-null  float64\n",
      " 39  rougher.input.feed_au                               16777 non-null  float64\n",
      " 40  rougher.input.floatbank10_sulfate                   15816 non-null  float64\n",
      " 41  rougher.input.floatbank10_xanthate                  16514 non-null  float64\n",
      " 42  rougher.input.floatbank11_sulfate                   16237 non-null  float64\n",
      " 43  rougher.input.floatbank11_xanthate                  14956 non-null  float64\n",
      " 44  rougher.output.concentrate_ag                       16778 non-null  float64\n",
      " 45  rougher.output.concentrate_pb                       16778 non-null  float64\n",
      " 46  rougher.output.concentrate_sol                      16698 non-null  float64\n",
      " 47  rougher.output.concentrate_au                       16778 non-null  float64\n",
      " 48  rougher.output.recovery                             14287 non-null  float64\n",
      " 49  rougher.output.tail_ag                              14610 non-null  float64\n",
      " 50  rougher.output.tail_pb                              16778 non-null  float64\n",
      " 51  rougher.output.tail_sol                             14611 non-null  float64\n",
      " 52  rougher.output.tail_au                              14611 non-null  float64\n",
      " 53  rougher.state.floatbank10_a_air                     16807 non-null  float64\n",
      " 54  rougher.state.floatbank10_a_level                   16807 non-null  float64\n",
      " 55  rougher.state.floatbank10_b_air                     16807 non-null  float64\n",
      " 56  rougher.state.floatbank10_b_level                   16807 non-null  float64\n",
      " 57  rougher.state.floatbank10_c_air                     16807 non-null  float64\n",
      " 58  rougher.state.floatbank10_c_level                   16814 non-null  float64\n",
      " 59  rougher.state.floatbank10_d_air                     16802 non-null  float64\n",
      " 60  rougher.state.floatbank10_d_level                   16809 non-null  float64\n",
      " 61  rougher.state.floatbank10_e_air                     16257 non-null  float64\n",
      " 62  rougher.state.floatbank10_e_level                   16809 non-null  float64\n",
      " 63  rougher.state.floatbank10_f_air                     16802 non-null  float64\n",
      " 64  rougher.state.floatbank10_f_level                   16802 non-null  float64\n",
      " 65  secondary_cleaner.output.tail_ag                    16776 non-null  float64\n",
      " 66  secondary_cleaner.output.tail_pb                    16764 non-null  float64\n",
      " 67  secondary_cleaner.output.tail_sol                   14874 non-null  float64\n",
      " 68  secondary_cleaner.output.tail_au                    16778 non-null  float64\n",
      " 69  secondary_cleaner.state.floatbank2_a_air            16497 non-null  float64\n",
      " 70  secondary_cleaner.state.floatbank2_a_level          16751 non-null  float64\n",
      " 71  secondary_cleaner.state.floatbank2_b_air            16705 non-null  float64\n",
      " 72  secondary_cleaner.state.floatbank2_b_level          16748 non-null  float64\n",
      " 73  secondary_cleaner.state.floatbank3_a_air            16763 non-null  float64\n",
      " 74  secondary_cleaner.state.floatbank3_a_level          16747 non-null  float64\n",
      " 75  secondary_cleaner.state.floatbank3_b_air            16752 non-null  float64\n",
      " 76  secondary_cleaner.state.floatbank3_b_level          16750 non-null  float64\n",
      " 77  secondary_cleaner.state.floatbank4_a_air            16731 non-null  float64\n",
      " 78  secondary_cleaner.state.floatbank4_a_level          16747 non-null  float64\n",
      " 79  secondary_cleaner.state.floatbank4_b_air            16768 non-null  float64\n",
      " 80  secondary_cleaner.state.floatbank4_b_level          16767 non-null  float64\n",
      " 81  secondary_cleaner.state.floatbank5_a_air            16775 non-null  float64\n",
      " 82  secondary_cleaner.state.floatbank5_a_level          16775 non-null  float64\n",
      " 83  secondary_cleaner.state.floatbank5_b_air            16775 non-null  float64\n",
      " 84  secondary_cleaner.state.floatbank5_b_level          16776 non-null  float64\n",
      " 85  secondary_cleaner.state.floatbank6_a_air            16757 non-null  float64\n",
      " 86  secondary_cleaner.state.floatbank6_a_level          16775 non-null  float64\n",
      "dtypes: float64(86), object(1)\n",
      "memory usage: 11.2+ MB\n",
      "<class 'pandas.core.frame.DataFrame'>\n",
      "RangeIndex: 5856 entries, 0 to 5855\n",
      "Data columns (total 53 columns):\n",
      " #   Column                                      Non-Null Count  Dtype  \n",
      "---  ------                                      --------------  -----  \n",
      " 0   date                                        5856 non-null   object \n",
      " 1   primary_cleaner.input.sulfate               5554 non-null   float64\n",
      " 2   primary_cleaner.input.depressant            5572 non-null   float64\n",
      " 3   primary_cleaner.input.feed_size             5856 non-null   float64\n",
      " 4   primary_cleaner.input.xanthate              5690 non-null   float64\n",
      " 5   primary_cleaner.state.floatbank8_a_air      5840 non-null   float64\n",
      " 6   primary_cleaner.state.floatbank8_a_level    5840 non-null   float64\n",
      " 7   primary_cleaner.state.floatbank8_b_air      5840 non-null   float64\n",
      " 8   primary_cleaner.state.floatbank8_b_level    5840 non-null   float64\n",
      " 9   primary_cleaner.state.floatbank8_c_air      5840 non-null   float64\n",
      " 10  primary_cleaner.state.floatbank8_c_level    5840 non-null   float64\n",
      " 11  primary_cleaner.state.floatbank8_d_air      5840 non-null   float64\n",
      " 12  primary_cleaner.state.floatbank8_d_level    5840 non-null   float64\n",
      " 13  rougher.input.feed_ag                       5840 non-null   float64\n",
      " 14  rougher.input.feed_pb                       5840 non-null   float64\n",
      " 15  rougher.input.feed_rate                     5816 non-null   float64\n",
      " 16  rougher.input.feed_size                     5834 non-null   float64\n",
      " 17  rougher.input.feed_sol                      5789 non-null   float64\n",
      " 18  rougher.input.feed_au                       5840 non-null   float64\n",
      " 19  rougher.input.floatbank10_sulfate           5599 non-null   float64\n",
      " 20  rougher.input.floatbank10_xanthate          5733 non-null   float64\n",
      " 21  rougher.input.floatbank11_sulfate           5801 non-null   float64\n",
      " 22  rougher.input.floatbank11_xanthate          5503 non-null   float64\n",
      " 23  rougher.state.floatbank10_a_air             5839 non-null   float64\n",
      " 24  rougher.state.floatbank10_a_level           5840 non-null   float64\n",
      " 25  rougher.state.floatbank10_b_air             5839 non-null   float64\n",
      " 26  rougher.state.floatbank10_b_level           5840 non-null   float64\n",
      " 27  rougher.state.floatbank10_c_air             5839 non-null   float64\n",
      " 28  rougher.state.floatbank10_c_level           5840 non-null   float64\n",
      " 29  rougher.state.floatbank10_d_air             5839 non-null   float64\n",
      " 30  rougher.state.floatbank10_d_level           5840 non-null   float64\n",
      " 31  rougher.state.floatbank10_e_air             5839 non-null   float64\n",
      " 32  rougher.state.floatbank10_e_level           5840 non-null   float64\n",
      " 33  rougher.state.floatbank10_f_air             5839 non-null   float64\n",
      " 34  rougher.state.floatbank10_f_level           5840 non-null   float64\n",
      " 35  secondary_cleaner.state.floatbank2_a_air    5836 non-null   float64\n",
      " 36  secondary_cleaner.state.floatbank2_a_level  5840 non-null   float64\n",
      " 37  secondary_cleaner.state.floatbank2_b_air    5833 non-null   float64\n",
      " 38  secondary_cleaner.state.floatbank2_b_level  5840 non-null   float64\n",
      " 39  secondary_cleaner.state.floatbank3_a_air    5822 non-null   float64\n",
      " 40  secondary_cleaner.state.floatbank3_a_level  5840 non-null   float64\n",
      " 41  secondary_cleaner.state.floatbank3_b_air    5840 non-null   float64\n",
      " 42  secondary_cleaner.state.floatbank3_b_level  5840 non-null   float64\n",
      " 43  secondary_cleaner.state.floatbank4_a_air    5840 non-null   float64\n",
      " 44  secondary_cleaner.state.floatbank4_a_level  5840 non-null   float64\n",
      " 45  secondary_cleaner.state.floatbank4_b_air    5840 non-null   float64\n",
      " 46  secondary_cleaner.state.floatbank4_b_level  5840 non-null   float64\n",
      " 47  secondary_cleaner.state.floatbank5_a_air    5840 non-null   float64\n",
      " 48  secondary_cleaner.state.floatbank5_a_level  5840 non-null   float64\n",
      " 49  secondary_cleaner.state.floatbank5_b_air    5840 non-null   float64\n",
      " 50  secondary_cleaner.state.floatbank5_b_level  5840 non-null   float64\n",
      " 51  secondary_cleaner.state.floatbank6_a_air    5840 non-null   float64\n",
      " 52  secondary_cleaner.state.floatbank6_a_level  5840 non-null   float64\n",
      "dtypes: float64(52), object(1)\n",
      "memory usage: 2.4+ MB\n",
      "<class 'pandas.core.frame.DataFrame'>\n",
      "RangeIndex: 22716 entries, 0 to 22715\n",
      "Data columns (total 87 columns):\n",
      " #   Column                                              Non-Null Count  Dtype  \n",
      "---  ------                                              --------------  -----  \n",
      " 0   date                                                22716 non-null  object \n",
      " 1   final.output.concentrate_ag                         22627 non-null  float64\n",
      " 2   final.output.concentrate_pb                         22629 non-null  float64\n",
      " 3   final.output.concentrate_sol                        22331 non-null  float64\n",
      " 4   final.output.concentrate_au                         22630 non-null  float64\n",
      " 5   final.output.recovery                               20753 non-null  float64\n",
      " 6   final.output.tail_ag                                22633 non-null  float64\n",
      " 7   final.output.tail_pb                                22516 non-null  float64\n",
      " 8   final.output.tail_sol                               22445 non-null  float64\n",
      " 9   final.output.tail_au                                22635 non-null  float64\n",
      " 10  primary_cleaner.input.sulfate                       21107 non-null  float64\n",
      " 11  primary_cleaner.input.depressant                    21170 non-null  float64\n",
      " 12  primary_cleaner.input.feed_size                     22716 non-null  float64\n",
      " 13  primary_cleaner.input.xanthate                      21565 non-null  float64\n",
      " 14  primary_cleaner.output.concentrate_ag               22618 non-null  float64\n",
      " 15  primary_cleaner.output.concentrate_pb               22268 non-null  float64\n",
      " 16  primary_cleaner.output.concentrate_sol              21918 non-null  float64\n",
      " 17  primary_cleaner.output.concentrate_au               22618 non-null  float64\n",
      " 18  primary_cleaner.output.tail_ag                      22614 non-null  float64\n",
      " 19  primary_cleaner.output.tail_pb                      22594 non-null  float64\n",
      " 20  primary_cleaner.output.tail_sol                     22365 non-null  float64\n",
      " 21  primary_cleaner.output.tail_au                      22617 non-null  float64\n",
      " 22  primary_cleaner.state.floatbank8_a_air              22660 non-null  float64\n",
      " 23  primary_cleaner.state.floatbank8_a_level            22667 non-null  float64\n",
      " 24  primary_cleaner.state.floatbank8_b_air              22660 non-null  float64\n",
      " 25  primary_cleaner.state.floatbank8_b_level            22673 non-null  float64\n",
      " 26  primary_cleaner.state.floatbank8_c_air              22662 non-null  float64\n",
      " 27  primary_cleaner.state.floatbank8_c_level            22673 non-null  float64\n",
      " 28  primary_cleaner.state.floatbank8_d_air              22661 non-null  float64\n",
      " 29  primary_cleaner.state.floatbank8_d_level            22673 non-null  float64\n",
      " 30  rougher.calculation.sulfate_to_au_concentrate       22672 non-null  float64\n",
      " 31  rougher.calculation.floatbank10_sulfate_to_au_feed  22672 non-null  float64\n",
      " 32  rougher.calculation.floatbank11_sulfate_to_au_feed  22672 non-null  float64\n",
      " 33  rougher.calculation.au_pb_ratio                     21089 non-null  float64\n",
      " 34  rougher.input.feed_ag                               22618 non-null  float64\n",
      " 35  rougher.input.feed_pb                               22472 non-null  float64\n",
      " 36  rougher.input.feed_rate                             22163 non-null  float64\n",
      " 37  rougher.input.feed_size                             22277 non-null  float64\n",
      " 38  rougher.input.feed_sol                              22357 non-null  float64\n",
      " 39  rougher.input.feed_au                               22617 non-null  float64\n",
      " 40  rougher.input.floatbank10_sulfate                   21415 non-null  float64\n",
      " 41  rougher.input.floatbank10_xanthate                  22247 non-null  float64\n",
      " 42  rougher.input.floatbank11_sulfate                   22038 non-null  float64\n",
      " 43  rougher.input.floatbank11_xanthate                  20459 non-null  float64\n",
      " 44  rougher.output.concentrate_ag                       22618 non-null  float64\n",
      " 45  rougher.output.concentrate_pb                       22618 non-null  float64\n",
      " 46  rougher.output.concentrate_sol                      22526 non-null  float64\n",
      " 47  rougher.output.concentrate_au                       22618 non-null  float64\n",
      " 48  rougher.output.recovery                             19597 non-null  float64\n",
      " 49  rougher.output.tail_ag                              19979 non-null  float64\n",
      " 50  rougher.output.tail_pb                              22618 non-null  float64\n",
      " 51  rougher.output.tail_sol                             19980 non-null  float64\n",
      " 52  rougher.output.tail_au                              19980 non-null  float64\n",
      " 53  rougher.state.floatbank10_a_air                     22646 non-null  float64\n",
      " 54  rougher.state.floatbank10_a_level                   22647 non-null  float64\n",
      " 55  rougher.state.floatbank10_b_air                     22646 non-null  float64\n",
      " 56  rougher.state.floatbank10_b_level                   22647 non-null  float64\n",
      " 57  rougher.state.floatbank10_c_air                     22646 non-null  float64\n",
      " 58  rougher.state.floatbank10_c_level                   22654 non-null  float64\n",
      " 59  rougher.state.floatbank10_d_air                     22641 non-null  float64\n",
      " 60  rougher.state.floatbank10_d_level                   22649 non-null  float64\n",
      " 61  rougher.state.floatbank10_e_air                     22096 non-null  float64\n",
      " 62  rougher.state.floatbank10_e_level                   22649 non-null  float64\n",
      " 63  rougher.state.floatbank10_f_air                     22641 non-null  float64\n",
      " 64  rougher.state.floatbank10_f_level                   22642 non-null  float64\n",
      " 65  secondary_cleaner.output.tail_ag                    22616 non-null  float64\n",
      " 66  secondary_cleaner.output.tail_pb                    22600 non-null  float64\n",
      " 67  secondary_cleaner.output.tail_sol                   20501 non-null  float64\n",
      " 68  secondary_cleaner.output.tail_au                    22618 non-null  float64\n",
      " 69  secondary_cleaner.state.floatbank2_a_air            22333 non-null  float64\n",
      " 70  secondary_cleaner.state.floatbank2_a_level          22591 non-null  float64\n",
      " 71  secondary_cleaner.state.floatbank2_b_air            22538 non-null  float64\n",
      " 72  secondary_cleaner.state.floatbank2_b_level          22588 non-null  float64\n",
      " 73  secondary_cleaner.state.floatbank3_a_air            22585 non-null  float64\n",
      " 74  secondary_cleaner.state.floatbank3_a_level          22587 non-null  float64\n",
      " 75  secondary_cleaner.state.floatbank3_b_air            22592 non-null  float64\n",
      " 76  secondary_cleaner.state.floatbank3_b_level          22590 non-null  float64\n",
      " 77  secondary_cleaner.state.floatbank4_a_air            22571 non-null  float64\n",
      " 78  secondary_cleaner.state.floatbank4_a_level          22587 non-null  float64\n",
      " 79  secondary_cleaner.state.floatbank4_b_air            22608 non-null  float64\n",
      " 80  secondary_cleaner.state.floatbank4_b_level          22607 non-null  float64\n",
      " 81  secondary_cleaner.state.floatbank5_a_air            22615 non-null  float64\n",
      " 82  secondary_cleaner.state.floatbank5_a_level          22615 non-null  float64\n",
      " 83  secondary_cleaner.state.floatbank5_b_air            22615 non-null  float64\n",
      " 84  secondary_cleaner.state.floatbank5_b_level          22616 non-null  float64\n",
      " 85  secondary_cleaner.state.floatbank6_a_air            22597 non-null  float64\n",
      " 86  secondary_cleaner.state.floatbank6_a_level          22615 non-null  float64\n",
      "dtypes: float64(86), object(1)\n",
      "memory usage: 15.1+ MB\n"
     ]
    }
   ],
   "source": [
    "train_info=train_df.info()\n",
    "test_info=test_df.info()\n",
    "full_info=full_df.info()"
   ]
  },
  {
   "cell_type": "code",
   "execution_count": 4,
   "metadata": {},
   "outputs": [],
   "source": [
    "train_head= train_df.head()\n",
    "test_head= test_df.head()\n",
    "full_head= full_df.head()"
   ]
  },
  {
   "cell_type": "code",
   "execution_count": 5,
   "metadata": {},
   "outputs": [],
   "source": [
    "train_missing= train_df.isnull().sum().sum()\n",
    "test_missing= test_df.isnull().sum().sum()\n",
    "full_missing= full_df.isnull().sum().sum()"
   ]
  },
  {
   "cell_type": "code",
   "execution_count": 6,
   "metadata": {
    "scrolled": true
   },
   "outputs": [
    {
     "data": {
      "text/plain": [
       "(None,\n",
       " None,\n",
       " None,\n",
       " 30320,\n",
       " 2360,\n",
       " 36587,\n",
       "                   date  final.output.concentrate_ag  \\\n",
       " 0  2016-01-15 00:00:00                     6.055403   \n",
       " 1  2016-01-15 01:00:00                     6.029369   \n",
       " 2  2016-01-15 02:00:00                     6.055926   \n",
       " 3  2016-01-15 03:00:00                     6.047977   \n",
       " 4  2016-01-15 04:00:00                     6.148599   \n",
       " \n",
       "    final.output.concentrate_pb  final.output.concentrate_sol  \\\n",
       " 0                     9.889648                      5.507324   \n",
       " 1                     9.968944                      5.257781   \n",
       " 2                    10.213995                      5.383759   \n",
       " 3                     9.977019                      4.858634   \n",
       " 4                    10.142511                      4.939416   \n",
       " \n",
       "    final.output.concentrate_au  final.output.recovery  final.output.tail_ag  \\\n",
       " 0                    42.192020              70.541216             10.411962   \n",
       " 1                    42.701629              69.266198             10.462676   \n",
       " 2                    42.657501              68.116445             10.507046   \n",
       " 3                    42.689819              68.347543             10.422762   \n",
       " 4                    42.774141              66.927016             10.360302   \n",
       " \n",
       "    final.output.tail_pb  final.output.tail_sol  final.output.tail_au  ...  \\\n",
       " 0              0.895447              16.904297              2.143149  ...   \n",
       " 1              0.927452              16.634514              2.224930  ...   \n",
       " 2              0.953716              16.208849              2.257889  ...   \n",
       " 3              0.883763              16.532835              2.146849  ...   \n",
       " 4              0.792826              16.525686              2.055292  ...   \n",
       " \n",
       "    secondary_cleaner.state.floatbank4_a_air  \\\n",
       " 0                                 14.016835   \n",
       " 1                                 13.992281   \n",
       " 2                                 14.015015   \n",
       " 3                                 14.036510   \n",
       " 4                                 14.027298   \n",
       " \n",
       "    secondary_cleaner.state.floatbank4_a_level  \\\n",
       " 0                                 -502.488007   \n",
       " 1                                 -505.503262   \n",
       " 2                                 -502.520901   \n",
       " 3                                 -500.857308   \n",
       " 4                                 -499.838632   \n",
       " \n",
       "    secondary_cleaner.state.floatbank4_b_air  \\\n",
       " 0                                 12.099931   \n",
       " 1                                 11.950531   \n",
       " 2                                 11.912783   \n",
       " 3                                 11.999550   \n",
       " 4                                 11.953070   \n",
       " \n",
       "    secondary_cleaner.state.floatbank4_b_level  \\\n",
       " 0                                 -504.715942   \n",
       " 1                                 -501.331529   \n",
       " 2                                 -501.133383   \n",
       " 3                                 -501.193686   \n",
       " 4                                 -501.053894   \n",
       " \n",
       "    secondary_cleaner.state.floatbank5_a_air  \\\n",
       " 0                                  9.925633   \n",
       " 1                                 10.039245   \n",
       " 2                                 10.070913   \n",
       " 3                                  9.970366   \n",
       " 4                                  9.925709   \n",
       " \n",
       "    secondary_cleaner.state.floatbank5_a_level  \\\n",
       " 0                                 -498.310211   \n",
       " 1                                 -500.169983   \n",
       " 2                                 -500.129135   \n",
       " 3                                 -499.201640   \n",
       " 4                                 -501.686727   \n",
       " \n",
       "    secondary_cleaner.state.floatbank5_b_air  \\\n",
       " 0                                  8.079666   \n",
       " 1                                  7.984757   \n",
       " 2                                  8.013877   \n",
       " 3                                  7.977324   \n",
       " 4                                  7.894242   \n",
       " \n",
       "    secondary_cleaner.state.floatbank5_b_level  \\\n",
       " 0                                 -500.470978   \n",
       " 1                                 -500.582168   \n",
       " 2                                 -500.517572   \n",
       " 3                                 -500.255908   \n",
       " 4                                 -500.356035   \n",
       " \n",
       "    secondary_cleaner.state.floatbank6_a_air  \\\n",
       " 0                                 14.151341   \n",
       " 1                                 13.998353   \n",
       " 2                                 14.028663   \n",
       " 3                                 14.005551   \n",
       " 4                                 13.996647   \n",
       " \n",
       "    secondary_cleaner.state.floatbank6_a_level  \n",
       " 0                                 -605.841980  \n",
       " 1                                 -599.787184  \n",
       " 2                                 -601.427363  \n",
       " 3                                 -599.996129  \n",
       " 4                                 -601.496691  \n",
       " \n",
       " [5 rows x 87 columns])"
      ]
     },
     "execution_count": 6,
     "metadata": {},
     "output_type": "execute_result"
    }
   ],
   "source": [
    "train_info, test_info, full_info, train_missing, test_missing, full_missing, train_head"
   ]
  },
  {
   "cell_type": "markdown",
   "metadata": {},
   "source": [
    "The training data has 16,860 rows and includes target columns like rougher.output.recovery and final.output.recovery, though some values are missing. The test data has 5,856 rows, fewer features, and no target values. The full dataset combines both and has 22,716 rows with all features."
   ]
  },
  {
   "cell_type": "markdown",
   "metadata": {},
   "source": [
    "Woah, lots of information there! Including a bunch of missing values to keep in mind for later. We were given a formula Recovery = (C x (F-T) )/ (F x (C-T)) * 100%. Let's define it and begin the Verify Recovery calculation. "
   ]
  },
  {
   "cell_type": "code",
   "execution_count": 7,
   "metadata": {},
   "outputs": [],
   "source": [
    "def calculate_recovery(C, F, T):\n",
    "    return (C * (F - T)) / (F * (C -T)) * 100"
   ]
  },
  {
   "cell_type": "markdown",
   "metadata": {},
   "source": [
    "We used the formula to recalculate the rougher.output.recovery and compared it with the values in the dataset. The MAE (Mean Absolute Error) turned out to be low. This means the recovery values in the dataset are calculated correctly and we can safely use them to train our model."
   ]
  },
  {
   "cell_type": "code",
   "execution_count": 9,
   "metadata": {},
   "outputs": [
    {
     "data": {
      "text/plain": [
       "{'final.output.concentrate_ag',\n",
       " 'final.output.concentrate_au',\n",
       " 'final.output.concentrate_pb',\n",
       " 'final.output.concentrate_sol',\n",
       " 'final.output.recovery',\n",
       " 'final.output.tail_ag',\n",
       " 'final.output.tail_au',\n",
       " 'final.output.tail_pb',\n",
       " 'final.output.tail_sol',\n",
       " 'primary_cleaner.output.concentrate_ag',\n",
       " 'primary_cleaner.output.concentrate_au',\n",
       " 'primary_cleaner.output.concentrate_pb',\n",
       " 'primary_cleaner.output.concentrate_sol',\n",
       " 'primary_cleaner.output.tail_ag',\n",
       " 'primary_cleaner.output.tail_au',\n",
       " 'primary_cleaner.output.tail_pb',\n",
       " 'primary_cleaner.output.tail_sol',\n",
       " 'rougher.calculation.au_pb_ratio',\n",
       " 'rougher.calculation.floatbank10_sulfate_to_au_feed',\n",
       " 'rougher.calculation.floatbank11_sulfate_to_au_feed',\n",
       " 'rougher.calculation.sulfate_to_au_concentrate',\n",
       " 'rougher.output.concentrate_ag',\n",
       " 'rougher.output.concentrate_au',\n",
       " 'rougher.output.concentrate_pb',\n",
       " 'rougher.output.concentrate_sol',\n",
       " 'rougher.output.recovery',\n",
       " 'rougher.output.tail_ag',\n",
       " 'rougher.output.tail_au',\n",
       " 'rougher.output.tail_pb',\n",
       " 'rougher.output.tail_sol',\n",
       " 'secondary_cleaner.output.tail_ag',\n",
       " 'secondary_cleaner.output.tail_au',\n",
       " 'secondary_cleaner.output.tail_pb',\n",
       " 'secondary_cleaner.output.tail_sol'}"
      ]
     },
     "execution_count": 9,
     "metadata": {},
     "output_type": "execute_result"
    }
   ],
   "source": [
    "missing_features = set(train_df.columns) - set(test_df.columns)\n",
    "\n",
    "missing_features"
   ]
  },
  {
   "cell_type": "code",
   "execution_count": 10,
   "metadata": {},
   "outputs": [
    {
     "data": {
      "text/plain": [
       "((16860, 52), (5856, 52), (16860, 2))"
      ]
     },
     "execution_count": 10,
     "metadata": {},
     "output_type": "execute_result"
    }
   ],
   "source": [
    "common_features = [col for col in test_df.columns if col != 'date']\n",
    "\n",
    "X_train = train_df[common_features]\n",
    "X_test = test_df[common_features]\n",
    "\n",
    "y_train_rougher = train_df['rougher.output.recovery']\n",
    "y_train_final = train_df['final.output.recovery']\n",
    "\n",
    "y_train = pd.DataFrame({\n",
    "    'rougher.output.recovery': y_train_rougher,\n",
    "    'final.output.recovery': y_train_final\n",
    "})\n",
    "\n",
    "X_train.shape, X_test.shape, y_train.shape"
   ]
  },
  {
   "cell_type": "markdown",
   "metadata": {},
   "source": [
    "We found that some columns in the training set are missing from the test set. These are mostly target values (like rougher.output.recovery, final.output.recovery) and some calculated features based on the output.\n",
    "\n",
    "This makes sense because we use the test set to evaluate how well the model predicts these values; so the actual answers (targets) shouldn't be included. These missing columns are not needed for making predictions and should only be used during training and evaluation."
   ]
  },
  {
   "cell_type": "markdown",
   "metadata": {},
   "source": [
    "The training and test sets are now aligned, with both having 52 features. X_train has 16,860 rows, X_test has 5,856 rows, and y_train contains the two target values (rougher.output.recovery and final.output.recovery) for 16,860 rows. Now, we need to handle missing values before training the model."
   ]
  },
  {
   "cell_type": "code",
   "execution_count": 11,
   "metadata": {},
   "outputs": [
    {
     "data": {
      "text/plain": [
       "(0, 0)"
      ]
     },
     "execution_count": 11,
     "metadata": {},
     "output_type": "execute_result"
    }
   ],
   "source": [
    "X_train_ffill = X_train.fillna(method='ffill')\n",
    "X_test_ffill = X_test.fillna(method='ffill')\n",
    "\n",
    "missing_train = X_train_ffill.isnull().sum().sum()\n",
    "missing_test = X_test_ffill.isnull().sum().sum()\n",
    "\n",
    "missing_train, missing_test"
   ]
  },
  {
   "cell_type": "markdown",
   "metadata": {},
   "source": [
    "Forward fill works best here because the data follows a time order, and values change gradually. It keeps all data while ensuring smooth transitions, making it more reliable than dropping rows or using averages. Time to visulize some data before making out model."
   ]
  },
  {
   "cell_type": "code",
   "execution_count": 12,
   "metadata": {},
   "outputs": [
    {
     "data": {
      "image/png": "[encoded data removed]",
      "text/plain": [
       "<Figure size 800x500 with 1 Axes>"
      ]
     },
     "metadata": {},
     "output_type": "display_data"
    },
    {
     "data": {
      "image/png": "[encoded data removed]",
      "text/plain": [
       "<Figure size 800x500 with 1 Axes>"
      ]
     },
     "metadata": {},
     "output_type": "display_data"
    },
    {
     "data": {
      "image/png": "[encoded data removed]",
      "text/plain": [
       "<Figure size 800x500 with 1 Axes>"
      ]
     },
     "metadata": {},
     "output_type": "display_data"
    }
   ],
   "source": [
    "metals = ['au', 'ag', 'pb'] #gold, silver and lead respectively\n",
    "\n",
    "stages = {\n",
    "    \"Feed\": \"rougher.input.feed_\",\n",
    "    \"Rougher Concentrate\": \"rougher.output.concentrate_\",\n",
    "    \"Final Concentrate\": \"final.output.concentrate_\"\n",
    "}\n",
    "\n",
    "for metal in metals:\n",
    "    plt.figure(figsize=(8,5))\n",
    "    for stage, prefix in stages.items():\n",
    "        plt.hist(train_df[f\"{prefix}{metal}\"].dropna(), bins=50, alpha=0.5, label=stage)\n",
    "        \n",
    "    plt.xlabel(f\"{metal.upper()} Concentration (%)\")\n",
    "    plt.ylabel(\"Frequency\")\n",
    "    plt.title(f\"Distribution of {metal.upper()} Concentrate Across Processing Stages\")\n",
    "    plt.legend()\n",
    "    plt.show()"
   ]
  },
  {
   "cell_type": "markdown",
   "metadata": {},
   "source": [
    "We looked at how the concentrations of gold (Au), silver (Ag), and lead (Pb) change during processing. Gold concentration increases the most from the feed to the final stage, which shows the process is working well. Silver and lead also increase, but not as much. This matches our expectations since gold is the main target."
   ]
  },
  {
   "cell_type": "code",
   "execution_count": 13,
   "metadata": {},
   "outputs": [
    {
     "data": {
      "image/png": "[encoded data removed]",
      "text/plain": [
       "<Figure size 800x500 with 1 Axes>"
      ]
     },
     "metadata": {},
     "output_type": "display_data"
    },
    {
     "data": {
      "image/png": "[encoded data removed]",
      "text/plain": [
       "<Figure size 800x500 with 1 Axes>"
      ]
     },
     "metadata": {},
     "output_type": "display_data"
    }
   ],
   "source": [
    "plt.figure(figsize=(8,5))\n",
    "train_df[\"rougher.input.feed_size\"].dropna().plot(kind='kde', label=\"Train Set\")\n",
    "test_df[\"rougher.input.feed_size\"].dropna().plot(kind='kde', label=\"Test Set\")\n",
    "\n",
    "plt.xlabel(\"Feed Particle Size\")\n",
    "plt.ylabel(\"Density\")\n",
    "plt.title(\"Comparison of Rougher Feed Size Distribution (Train vs Test)\")\n",
    "plt.legend()\n",
    "plt.grid(True)\n",
    "plt.show()\n",
    "\n",
    "plt.figure(figsize=(8,5))\n",
    "train_df[\"primary_cleaner.input.feed_size\"].dropna().plot(kind='kde', label=\"Train Set\")\n",
    "test_df[\"primary_cleaner.input.feed_size\"].dropna().plot(kind='kde', label=\"Test Set\")\n",
    "\n",
    "plt.xlabel(\"Feed Particle Size\")\n",
    "plt.ylabel(\"Density\")\n",
    "plt.title(\"Comparison of Primary Cleaner Feed Size Distribution (Train vs Test)\")\n",
    "plt.legend()\n",
    "plt.grid(True)\n",
    "plt.show()"
   ]
  },
  {
   "cell_type": "markdown",
   "metadata": {},
   "source": [
    "We compared the feed particle size distributions for both the rougher and primary cleaner stages in the train and test datasets. The distributions are similar in both cases, which means the test set is representative of the train set. This helps ensure that the model’s evaluation on the test data will be fair and accurate."
   ]
  },
  {
   "cell_type": "code",
   "execution_count": 14,
   "metadata": {},
   "outputs": [
    {
     "data": {
      "image/png": "[encoded data removed]",
      "text/plain": [
       "<Figure size 800x500 with 1 Axes>"
      ]
     },
     "metadata": {},
     "output_type": "display_data"
    },
    {
     "data": {
      "text/plain": [
       "1764"
      ]
     },
     "execution_count": 14,
     "metadata": {},
     "output_type": "execute_result"
    }
   ],
   "source": [
    "train_df['total_feed'] = train_df[['rougher.input.feed_au', 'rougher.input.feed_ag', 'rougher.input.feed_pb']].sum(axis=1)\n",
    "train_df['total_rougher'] = train_df[['rougher.output.concentrate_au', 'rougher.output.concentrate_ag', 'rougher.output.concentrate_pb']].sum(axis=1)\n",
    "train_df['total_final'] = train_df[['final.output.concentrate_au', 'final.output.concentrate_ag', 'final.output.concentrate_pb']].sum(axis=1)\n",
    "\n",
    "plt.figure(figsize=(8, 5))\n",
    "plt.hist(train_df[\"total_feed\"].dropna(), bins=50, alpha=0.5, label=\"Total Feed\", density=True)\n",
    "plt.hist(train_df[\"total_rougher\"].dropna(), bins=50, alpha=0.5, label=\"Total Rougher Concentrate\", density=True)\n",
    "plt.hist(train_df[\"total_final\"].dropna(), bins=50, alpha=0.5, label=\"Total Final Concentrate\", density=True)\n",
    "\n",
    "plt.xlabel(\"Total Metal Concentration\")\n",
    "plt.ylabel(\"Density\")\n",
    "plt.title(\"Total Metal Concentration Across Processing Stages\")\n",
    "plt.legend()\n",
    "plt.show()\n",
    "\n",
    "anomalies = train_df[(train_df[\"total_feed\"] <= 0) | (train_df[\"total_rougher\"] <= 0) | (train_df[\"total_final\"] <= 0)]\n",
    "anomalies_count = anomalies.shape[0]\n",
    "\n",
    "anomalies_count"
   ]
  },
  {
   "cell_type": "markdown",
   "metadata": {},
   "source": [
    "We looked at the total metal concentrations at each stage of processing. Most values look fine, but some rows have zero or negative values, which doesn’t make sense. We found anomalies_count such cases. These rows should be removed to keep the data clean for training the model."
   ]
  },
  {
   "cell_type": "code",
   "execution_count": 15,
   "metadata": {},
   "outputs": [
    {
     "data": {
      "text/plain": [
       "0"
      ]
     },
     "execution_count": 15,
     "metadata": {},
     "output_type": "execute_result"
    }
   ],
   "source": [
    "train_df = train_df[\n",
    "    (train_df[\"total_feed\"] > 0) & \n",
    "    (train_df[\"total_rougher\"] > 0) & \n",
    "    (train_df[\"total_final\"] > 0)\n",
    "]\n",
    "\n",
    "anomalies_after = train_df[(train_df[\"total_feed\"] <= 0) | (train_df[\"total_rougher\"] <= 0) | (train_df[\"total_final\"] <= 0)].shape[0]\n",
    "\n",
    "anomalies_after"
   ]
  },
  {
   "cell_type": "markdown",
   "metadata": {},
   "source": [
    "Here we dealt more with missing or outlier data to help clean up the set before proceeding. \n",
    "\n",
    "With features and targets prepared, it's time to train our first model.\n"
   ]
  },
  {
   "cell_type": "code",
   "execution_count": 16,
   "metadata": {},
   "outputs": [],
   "source": [
    "first_model = LinearRegression()\n",
    "\n",
    "X_train_ready = X_train.fillna(method='ffill').fillna(X_train.median())\n",
    "y_train_ready = y_train.fillna(method='ffill').fillna(y_train.median())\n",
    "\n",
    "first_model.fit(X_train_ready, y_train_ready)\n",
    "\n",
    "X_test_ready = X_test_ffill.fillna(method='ffill').fillna(X_test_ffill.median())\n",
    "\n",
    "y_test_pred = first_model.predict(X_test_ready)\n",
    "\n",
    "predictions_df = pd.DataFrame(y_test_pred, columns=[\"rougher.output.recovery\", \"final.output.recovery\"])"
   ]
  },
  {
   "cell_type": "code",
   "execution_count": 18,
   "metadata": {},
   "outputs": [
    {
     "name": "stdout",
     "output_type": "stream",
     "text": [
      "Final sMAPE with Random Forest: 11.47 %\n"
     ]
    }
   ],
   "source": [
    "train_df['date'] = pd.to_datetime(train_df['date'])\n",
    "test_df['date'] = pd.to_datetime(test_df['date'])\n",
    "full_df['date'] = pd.to_datetime(full_df['date'])\n",
    "\n",
    "def smape_single(y_true, y_pred):\n",
    "    return np.mean(100 * (2 * np.abs(y_pred - y_true) / (np.abs(y_true) + np.abs(y_pred) + 1e-10)))\n",
    "\n",
    "def final_smape_single(y_true, y_pred):\n",
    "    smape_rougher = smape_single(y_true[:, 0], y_pred[:, 0])\n",
    "    smape_final = smape_single(y_true[:, 1], y_pred[:, 1])\n",
    "    return 0.25 * smape_rougher + 0.75 * smape_final\n",
    "\n",
    "common_features = test_df.columns.drop('date')\n",
    "\n",
    "target_columns = [\"rougher.output.recovery\", \"final.output.recovery\"]\n",
    "train_filtered = train_df.dropna(subset=target_columns)\n",
    "\n",
    "X_train = train_filtered[common_features].fillna(method='ffill').fillna(train_filtered[common_features].median())\n",
    "y_train = train_filtered[target_columns]\n",
    "\n",
    "X_test = test_df[common_features].fillna(method='ffill').fillna(test_df[common_features].median())\n",
    "\n",
    "rf = RandomForestRegressor(random_state=42)\n",
    "multi_rf = MultiOutputRegressor(rf)\n",
    "\n",
    "param_grid = {\n",
    "    'estimator__n_estimators': [50, 100],\n",
    "    'estimator__max_depth': [5, 10]\n",
    "}\n",
    "\n",
    "grid_search = GridSearchCV(multi_rf, param_grid, cv=3, scoring='neg_mean_absolute_error', n_jobs=-1)\n",
    "grid_search.fit(X_train, y_train)\n",
    "\n",
    "best_model = grid_search.best_estimator_\n",
    "y_test_pred = best_model.predict(X_test)\n",
    "\n",
    "test_dates = test_df['date']\n",
    "targets_only = full_df[['date', 'rougher.output.recovery', 'final.output.recovery']]\n",
    "true_targets = targets_only[targets_only['date'].isin(test_dates)].sort_values('date').reset_index(drop=True)\n",
    "\n",
    "valid_targets = true_targets.dropna(subset=target_columns).reset_index(drop=True)\n",
    "y_test_pred_df = pd.DataFrame(y_test_pred, columns=target_columns)\n",
    "y_test_pred_valid = y_test_pred_df.iloc[valid_targets.index].reset_index(drop=True)\n",
    "\n",
    "final_smape = final_smape_single(valid_targets[target_columns].to_numpy(), y_test_pred_valid.to_numpy())\n",
    "print(\"Final sMAPE with Random Forest:\", round(final_smape, 2), \"%\")"
   ]
  },
  {
   "cell_type": "code",
   "execution_count": 19,
   "metadata": {},
   "outputs": [
    {
     "name": "stdout",
     "output_type": "stream",
     "text": [
      "Final sMAPE with Linear Regression: 13.72 %\n"
     ]
    }
   ],
   "source": [
    "lr_model = LinearRegression()\n",
    "lr_model = MultiOutputRegressor(lr_model)\n",
    "lr_model.fit(X_train, y_train)\n",
    "\n",
    "y_lr_pred = lr_model.predict(X_test)\n",
    "y_lr_pred_df = pd.DataFrame(y_lr_pred, columns=target_columns)\n",
    "y_lr_pred_valid = y_lr_pred_df.iloc[valid_targets.index].reset_index(drop=True)\n",
    "\n",
    "smape_lr = final_smape_single(valid_targets[target_columns].to_numpy(), y_lr_pred_valid.to_numpy())\n",
    "print(\"Final sMAPE with Linear Regression:\", round(smape_lr, 2), \"%\")"
   ]
  },
  {
   "cell_type": "markdown",
   "metadata": {},
   "source": [
    "In this project, we built a machine learning model to predict gold recovery during ore processing. We cleaned the data, handled missing values, and removed incorrect records. We also explored how metal concentrations changed across processing stages and confirmed that the train and test data were consistent.\n",
    "\n",
    "We tested two models: Linear Regression and Random Forest. Linear Regression gave quick and reasonable results, but Random Forest performed better after tuning its parameters. It achieved a lower sMAPE and became our final model for prediction.\n",
    "\n",
    "Cleaning the data and removing incorrect values improved model performance. Gold concentration increased through the stages, as expected, while silver and lead decreased. Feed sizes were similar in both datasets, making our results reliable.\n",
    "\n",
    "The final model helps Zyfra predict gold recovery more accurately, allowing them to improve processing efficiency and reduce losses."
   ]
  }
 ],
 "metadata": {
  "ExecuteTimeLog": [
   {
    "duration": 2696,
    "start_time": "2025-03-19T16:13:54.438Z"
   },
   {
    "duration": 228,
    "start_time": "2025-03-19T16:16:00.701Z"
   },
   {
    "duration": 752,
    "start_time": "2025-03-19T16:17:50.178Z"
   },
   {
    "duration": 285,
    "start_time": "2025-03-19T16:17:57.415Z"
   },
   {
    "duration": 516,
    "start_time": "2025-03-19T16:19:48.000Z"
   },
   {
    "duration": 231,
    "start_time": "2025-03-19T16:20:21.338Z"
   },
   {
    "duration": 488,
    "start_time": "2025-03-19T16:20:43.908Z"
   },
   {
    "duration": 30,
    "start_time": "2025-03-19T16:22:01.130Z"
   },
   {
    "duration": 16,
    "start_time": "2025-03-19T16:22:23.434Z"
   },
   {
    "duration": 994,
    "start_time": "2025-03-19T16:23:12.311Z"
   },
   {
    "duration": 495,
    "start_time": "2025-03-19T16:23:13.308Z"
   },
   {
    "duration": 76,
    "start_time": "2025-03-19T16:23:13.805Z"
   },
   {
    "duration": 6,
    "start_time": "2025-03-19T16:24:34.283Z"
   },
   {
    "duration": 6,
    "start_time": "2025-03-19T16:25:26.080Z"
   },
   {
    "duration": 10,
    "start_time": "2025-03-19T16:26:08.668Z"
   },
   {
    "duration": 11,
    "start_time": "2025-03-19T16:27:14.267Z"
   },
   {
    "duration": 10,
    "start_time": "2025-03-19T16:27:22.443Z"
   },
   {
    "duration": 3,
    "start_time": "2025-03-19T16:27:48.564Z"
   },
   {
    "duration": 13,
    "start_time": "2025-03-19T16:29:46.235Z"
   },
   {
    "duration": 223,
    "start_time": "2025-03-19T17:50:54.459Z"
   },
   {
    "duration": 3,
    "start_time": "2025-03-19T17:51:24.661Z"
   },
   {
    "duration": 5,
    "start_time": "2025-03-20T22:01:28.481Z"
   },
   {
    "duration": 2707,
    "start_time": "2025-03-20T22:01:34.443Z"
   },
   {
    "duration": 613,
    "start_time": "2025-03-20T22:01:37.152Z"
   },
   {
    "duration": 31,
    "start_time": "2025-03-20T22:01:37.766Z"
   },
   {
    "duration": 3,
    "start_time": "2025-03-20T22:01:37.799Z"
   },
   {
    "duration": 10,
    "start_time": "2025-03-20T22:01:37.811Z"
   },
   {
    "duration": 11,
    "start_time": "2025-03-20T22:01:37.824Z"
   },
   {
    "duration": 2,
    "start_time": "2025-03-20T22:01:37.837Z"
   },
   {
    "duration": 272,
    "start_time": "2025-03-20T22:17:37.913Z"
   },
   {
    "duration": 27,
    "start_time": "2025-03-20T22:17:43.938Z"
   },
   {
    "duration": 21,
    "start_time": "2025-03-20T22:17:47.747Z"
   },
   {
    "duration": 22,
    "start_time": "2025-03-20T22:18:45.182Z"
   },
   {
    "duration": 3,
    "start_time": "2025-03-20T22:19:03.578Z"
   },
   {
    "duration": 957,
    "start_time": "2025-03-20T22:19:08.293Z"
   },
   {
    "duration": 528,
    "start_time": "2025-03-20T22:19:09.252Z"
   },
   {
    "duration": 116,
    "start_time": "2025-03-20T22:19:09.782Z"
   },
   {
    "duration": 11,
    "start_time": "2025-03-20T22:19:09.900Z"
   },
   {
    "duration": 14,
    "start_time": "2025-03-20T22:19:09.914Z"
   },
   {
    "duration": 15,
    "start_time": "2025-03-20T22:19:09.929Z"
   },
   {
    "duration": 3,
    "start_time": "2025-03-20T22:19:09.946Z"
   },
   {
    "duration": 22,
    "start_time": "2025-03-20T22:19:09.951Z"
   },
   {
    "duration": 6,
    "start_time": "2025-03-20T22:20:56.668Z"
   },
   {
    "duration": 12,
    "start_time": "2025-03-20T22:34:37.934Z"
   },
   {
    "duration": 60,
    "start_time": "2025-03-20T23:09:58.332Z"
   },
   {
    "duration": 906,
    "start_time": "2025-03-20T23:19:22.514Z"
   },
   {
    "duration": 190,
    "start_time": "2025-03-20T23:22:41.779Z"
   },
   {
    "duration": 300,
    "start_time": "2025-03-20T23:24:35.329Z"
   },
   {
    "duration": 289,
    "start_time": "2025-03-20T23:25:35.666Z"
   },
   {
    "duration": 9,
    "start_time": "2025-03-20T23:25:59.116Z"
   },
   {
    "duration": 5,
    "start_time": "2025-03-20T23:26:29.063Z"
   },
   {
    "duration": 4,
    "start_time": "2025-03-21T00:35:41.975Z"
   },
   {
    "duration": 13,
    "start_time": "2025-03-21T00:37:05.521Z"
   },
   {
    "duration": 13,
    "start_time": "2025-03-21T00:37:59.981Z"
   },
   {
    "duration": 5,
    "start_time": "2025-03-21T00:43:06.827Z"
   },
   {
    "duration": 3,
    "start_time": "2025-03-21T00:43:16.724Z"
   },
   {
    "duration": 8,
    "start_time": "2025-03-21T00:47:04.187Z"
   },
   {
    "duration": 9,
    "start_time": "2025-03-21T00:50:54.913Z"
   },
   {
    "duration": 382,
    "start_time": "2025-03-21T00:55:10.507Z"
   },
   {
    "duration": 934,
    "start_time": "2025-03-21T00:55:32.508Z"
   },
   {
    "duration": 961,
    "start_time": "2025-03-21T00:56:19.218Z"
   },
   {
    "duration": 245,
    "start_time": "2025-03-21T00:59:00.879Z"
   },
   {
    "duration": 614,
    "start_time": "2025-03-21T01:00:06.531Z"
   },
   {
    "duration": 6,
    "start_time": "2025-03-21T01:01:04.603Z"
   },
   {
    "duration": 845,
    "start_time": "2025-03-21T01:01:29.630Z"
   },
   {
    "duration": 293,
    "start_time": "2025-03-21T01:06:17.762Z"
   },
   {
    "duration": 11,
    "start_time": "2025-03-21T01:07:14.344Z"
   },
   {
    "duration": 18,
    "start_time": "2025-03-21T01:21:33.504Z"
   },
   {
    "duration": 66,
    "start_time": "2025-03-21T01:22:23.524Z"
   },
   {
    "duration": 932,
    "start_time": "2025-03-21T01:22:28.291Z"
   },
   {
    "duration": 484,
    "start_time": "2025-03-21T01:22:29.225Z"
   },
   {
    "duration": 30,
    "start_time": "2025-03-21T01:22:29.711Z"
   },
   {
    "duration": 2,
    "start_time": "2025-03-21T01:22:29.744Z"
   },
   {
    "duration": 10,
    "start_time": "2025-03-21T01:22:29.751Z"
   },
   {
    "duration": 14,
    "start_time": "2025-03-21T01:22:29.764Z"
   },
   {
    "duration": 2,
    "start_time": "2025-03-21T01:22:29.780Z"
   },
   {
    "duration": 39,
    "start_time": "2025-03-21T01:22:29.785Z"
   },
   {
    "duration": 4,
    "start_time": "2025-03-21T01:22:29.825Z"
   },
   {
    "duration": 8,
    "start_time": "2025-03-21T01:22:29.830Z"
   },
   {
    "duration": 10,
    "start_time": "2025-03-21T01:22:29.839Z"
   },
   {
    "duration": 912,
    "start_time": "2025-03-21T01:22:29.851Z"
   },
   {
    "duration": 812,
    "start_time": "2025-03-21T01:22:30.765Z"
   },
   {
    "duration": 648,
    "start_time": "2025-03-21T01:22:31.580Z"
   },
   {
    "duration": 0,
    "start_time": "2025-03-21T01:22:32.230Z"
   },
   {
    "duration": 0,
    "start_time": "2025-03-21T01:22:32.231Z"
   },
   {
    "duration": 0,
    "start_time": "2025-03-21T01:22:32.232Z"
   },
   {
    "duration": 315,
    "start_time": "2025-03-21T01:31:19.559Z"
   },
   {
    "duration": 1006,
    "start_time": "2025-03-21T01:31:38.925Z"
   },
   {
    "duration": 489,
    "start_time": "2025-03-21T01:31:39.933Z"
   },
   {
    "duration": 30,
    "start_time": "2025-03-21T01:31:40.424Z"
   },
   {
    "duration": 2,
    "start_time": "2025-03-21T01:31:40.456Z"
   },
   {
    "duration": 9,
    "start_time": "2025-03-21T01:31:40.461Z"
   },
   {
    "duration": 12,
    "start_time": "2025-03-21T01:31:40.472Z"
   },
   {
    "duration": 27,
    "start_time": "2025-03-21T01:31:40.485Z"
   },
   {
    "duration": 14,
    "start_time": "2025-03-21T01:31:40.513Z"
   },
   {
    "duration": 3,
    "start_time": "2025-03-21T01:31:40.529Z"
   },
   {
    "duration": 9,
    "start_time": "2025-03-21T01:31:40.534Z"
   },
   {
    "duration": 10,
    "start_time": "2025-03-21T01:31:40.544Z"
   },
   {
    "duration": 915,
    "start_time": "2025-03-21T01:31:40.556Z"
   },
   {
    "duration": 816,
    "start_time": "2025-03-21T01:31:41.472Z"
   },
   {
    "duration": 334,
    "start_time": "2025-03-21T01:31:42.292Z"
   },
   {
    "duration": 11,
    "start_time": "2025-03-21T01:31:42.628Z"
   },
   {
    "duration": 179,
    "start_time": "2025-03-21T01:31:42.640Z"
   },
   {
    "duration": 105,
    "start_time": "2025-03-21T01:43:25.923Z"
   },
   {
    "duration": 3,
    "start_time": "2025-03-21T01:48:33.026Z"
   },
   {
    "duration": 959,
    "start_time": "2025-03-21T01:48:37.666Z"
   },
   {
    "duration": 493,
    "start_time": "2025-03-21T01:48:38.628Z"
   },
   {
    "duration": 30,
    "start_time": "2025-03-21T01:48:39.123Z"
   },
   {
    "duration": 3,
    "start_time": "2025-03-21T01:48:39.154Z"
   },
   {
    "duration": 10,
    "start_time": "2025-03-21T01:48:39.159Z"
   },
   {
    "duration": 11,
    "start_time": "2025-03-21T01:48:39.171Z"
   },
   {
    "duration": 2,
    "start_time": "2025-03-21T01:48:39.184Z"
   },
   {
    "duration": 14,
    "start_time": "2025-03-21T01:48:39.212Z"
   },
   {
    "duration": 4,
    "start_time": "2025-03-21T01:48:39.228Z"
   },
   {
    "duration": 8,
    "start_time": "2025-03-21T01:48:39.234Z"
   },
   {
    "duration": 10,
    "start_time": "2025-03-21T01:48:39.244Z"
   },
   {
    "duration": 912,
    "start_time": "2025-03-21T01:48:39.255Z"
   },
   {
    "duration": 816,
    "start_time": "2025-03-21T01:48:40.169Z"
   },
   {
    "duration": 320,
    "start_time": "2025-03-21T01:48:40.989Z"
   },
   {
    "duration": 14,
    "start_time": "2025-03-21T01:48:41.313Z"
   },
   {
    "duration": 186,
    "start_time": "2025-03-21T01:48:41.328Z"
   },
   {
    "duration": 219,
    "start_time": "2025-03-21T01:48:41.516Z"
   },
   {
    "duration": 3467,
    "start_time": "2025-03-21T09:11:20.995Z"
   },
   {
    "duration": 987,
    "start_time": "2025-03-21T09:11:24.464Z"
   },
   {
    "duration": 30,
    "start_time": "2025-03-21T09:11:25.453Z"
   },
   {
    "duration": 6,
    "start_time": "2025-03-21T09:11:25.485Z"
   },
   {
    "duration": 11,
    "start_time": "2025-03-21T09:11:25.495Z"
   },
   {
    "duration": 30,
    "start_time": "2025-03-21T09:11:25.507Z"
   },
   {
    "duration": 5,
    "start_time": "2025-03-21T09:11:25.538Z"
   },
   {
    "duration": 19,
    "start_time": "2025-03-21T09:11:25.545Z"
   },
   {
    "duration": 5,
    "start_time": "2025-03-21T09:11:25.567Z"
   },
   {
    "duration": 11,
    "start_time": "2025-03-21T09:11:25.575Z"
   },
   {
    "duration": 10,
    "start_time": "2025-03-21T09:11:25.587Z"
   },
   {
    "duration": 1004,
    "start_time": "2025-03-21T09:11:25.631Z"
   },
   {
    "duration": 784,
    "start_time": "2025-03-21T09:11:26.637Z"
   },
   {
    "duration": 487,
    "start_time": "2025-03-21T09:11:27.425Z"
   },
   {
    "duration": 26,
    "start_time": "2025-03-21T09:11:27.914Z"
   },
   {
    "duration": 10,
    "start_time": "2025-03-21T09:11:27.945Z"
   },
   {
    "duration": 25,
    "start_time": "2025-03-21T09:12:28.826Z"
   },
   {
    "duration": 80,
    "start_time": "2025-03-21T09:12:32.556Z"
   },
   {
    "duration": 177,
    "start_time": "2025-03-25T18:49:12.536Z"
   },
   {
    "duration": 2781,
    "start_time": "2025-03-25T18:49:18.643Z"
   },
   {
    "duration": 603,
    "start_time": "2025-03-25T18:49:21.426Z"
   },
   {
    "duration": 30,
    "start_time": "2025-03-25T18:49:22.031Z"
   },
   {
    "duration": 2,
    "start_time": "2025-03-25T18:49:22.063Z"
   },
   {
    "duration": 10,
    "start_time": "2025-03-25T18:49:22.067Z"
   },
   {
    "duration": 32,
    "start_time": "2025-03-25T18:49:22.078Z"
   },
   {
    "duration": 2,
    "start_time": "2025-03-25T18:49:22.111Z"
   },
   {
    "duration": 14,
    "start_time": "2025-03-25T18:49:22.115Z"
   },
   {
    "duration": 3,
    "start_time": "2025-03-25T18:49:22.131Z"
   },
   {
    "duration": 8,
    "start_time": "2025-03-25T18:49:22.137Z"
   },
   {
    "duration": 9,
    "start_time": "2025-03-25T18:49:22.147Z"
   },
   {
    "duration": 1019,
    "start_time": "2025-03-25T18:49:22.158Z"
   },
   {
    "duration": 1461,
    "start_time": "2025-03-25T18:49:23.180Z"
   },
   {
    "duration": 412,
    "start_time": "2025-03-25T18:49:24.643Z"
   },
   {
    "duration": 12,
    "start_time": "2025-03-25T18:49:25.057Z"
   },
   {
    "duration": 139,
    "start_time": "2025-03-25T18:49:25.071Z"
   },
   {
    "duration": 193,
    "start_time": "2025-03-25T18:49:25.213Z"
   },
   {
    "duration": 131,
    "start_time": "2025-03-25T18:53:39.980Z"
   },
   {
    "duration": 74,
    "start_time": "2025-03-25T18:54:02.538Z"
   },
   {
    "duration": 4,
    "start_time": "2025-03-25T19:00:44.767Z"
   },
   {
    "duration": 966,
    "start_time": "2025-03-25T19:04:48.475Z"
   },
   {
    "duration": 487,
    "start_time": "2025-03-25T19:04:49.443Z"
   },
   {
    "duration": 38,
    "start_time": "2025-03-25T19:04:49.933Z"
   },
   {
    "duration": 3,
    "start_time": "2025-03-25T19:04:49.973Z"
   },
   {
    "duration": 31,
    "start_time": "2025-03-25T19:04:49.979Z"
   },
   {
    "duration": 13,
    "start_time": "2025-03-25T19:04:50.012Z"
   },
   {
    "duration": 3,
    "start_time": "2025-03-25T19:04:50.026Z"
   },
   {
    "duration": 14,
    "start_time": "2025-03-25T19:04:50.030Z"
   },
   {
    "duration": 3,
    "start_time": "2025-03-25T19:04:50.046Z"
   },
   {
    "duration": 7,
    "start_time": "2025-03-25T19:04:50.051Z"
   },
   {
    "duration": 46,
    "start_time": "2025-03-25T19:04:50.060Z"
   },
   {
    "duration": 904,
    "start_time": "2025-03-25T19:04:50.108Z"
   },
   {
    "duration": 1604,
    "start_time": "2025-03-25T19:04:51.015Z"
   },
   {
    "duration": 323,
    "start_time": "2025-03-25T19:04:52.622Z"
   },
   {
    "duration": 11,
    "start_time": "2025-03-25T19:04:52.946Z"
   },
   {
    "duration": 148,
    "start_time": "2025-03-25T19:04:52.959Z"
   },
   {
    "duration": 1000,
    "start_time": "2025-03-25T19:05:49.250Z"
   },
   {
    "duration": 507,
    "start_time": "2025-03-25T19:05:50.252Z"
   },
   {
    "duration": 30,
    "start_time": "2025-03-25T19:05:50.761Z"
   },
   {
    "duration": 12,
    "start_time": "2025-03-25T19:05:50.793Z"
   },
   {
    "duration": 10,
    "start_time": "2025-03-25T19:05:50.808Z"
   },
   {
    "duration": 14,
    "start_time": "2025-03-25T19:05:50.819Z"
   },
   {
    "duration": 5,
    "start_time": "2025-03-25T19:05:50.834Z"
   },
   {
    "duration": 25,
    "start_time": "2025-03-25T19:05:50.841Z"
   },
   {
    "duration": 3,
    "start_time": "2025-03-25T19:05:50.868Z"
   },
   {
    "duration": 37,
    "start_time": "2025-03-25T19:05:50.873Z"
   },
   {
    "duration": 11,
    "start_time": "2025-03-25T19:05:50.912Z"
   },
   {
    "duration": 912,
    "start_time": "2025-03-25T19:05:50.924Z"
   },
   {
    "duration": 1643,
    "start_time": "2025-03-25T19:05:51.837Z"
   },
   {
    "duration": 316,
    "start_time": "2025-03-25T19:05:53.484Z"
   },
   {
    "duration": 10,
    "start_time": "2025-03-25T19:05:53.805Z"
   },
   {
    "duration": 107,
    "start_time": "2025-03-25T19:05:53.817Z"
   },
   {
    "duration": 997,
    "start_time": "2025-03-25T19:11:23.232Z"
   },
   {
    "duration": 511,
    "start_time": "2025-03-25T19:11:24.232Z"
   },
   {
    "duration": 34,
    "start_time": "2025-03-25T19:11:24.747Z"
   },
   {
    "duration": 4,
    "start_time": "2025-03-25T19:11:24.782Z"
   },
   {
    "duration": 21,
    "start_time": "2025-03-25T19:11:24.789Z"
   },
   {
    "duration": 13,
    "start_time": "2025-03-25T19:11:24.812Z"
   },
   {
    "duration": 3,
    "start_time": "2025-03-25T19:11:24.826Z"
   },
   {
    "duration": 15,
    "start_time": "2025-03-25T19:11:24.830Z"
   },
   {
    "duration": 4,
    "start_time": "2025-03-25T19:11:24.846Z"
   },
   {
    "duration": 8,
    "start_time": "2025-03-25T19:11:24.852Z"
   },
   {
    "duration": 45,
    "start_time": "2025-03-25T19:11:24.861Z"
   },
   {
    "duration": 894,
    "start_time": "2025-03-25T19:11:24.908Z"
   },
   {
    "duration": 1581,
    "start_time": "2025-03-25T19:11:25.805Z"
   },
   {
    "duration": 318,
    "start_time": "2025-03-25T19:11:27.390Z"
   },
   {
    "duration": 10,
    "start_time": "2025-03-25T19:11:27.710Z"
   },
   {
    "duration": 187,
    "start_time": "2025-03-25T19:11:27.722Z"
   },
   {
    "duration": 1230,
    "start_time": "2025-03-26T03:53:52.073Z"
   },
   {
    "duration": 617,
    "start_time": "2025-03-26T03:53:53.305Z"
   },
   {
    "duration": 36,
    "start_time": "2025-03-26T03:53:53.924Z"
   },
   {
    "duration": 3,
    "start_time": "2025-03-26T03:53:53.961Z"
   },
   {
    "duration": 9,
    "start_time": "2025-03-26T03:53:53.967Z"
   },
   {
    "duration": 12,
    "start_time": "2025-03-26T03:53:53.977Z"
   },
   {
    "duration": 3,
    "start_time": "2025-03-26T03:53:53.990Z"
   },
   {
    "duration": 15,
    "start_time": "2025-03-26T03:53:53.994Z"
   },
   {
    "duration": 35,
    "start_time": "2025-03-26T03:53:54.010Z"
   },
   {
    "duration": 9,
    "start_time": "2025-03-26T03:53:54.047Z"
   },
   {
    "duration": 9,
    "start_time": "2025-03-26T03:53:54.058Z"
   },
   {
    "duration": 929,
    "start_time": "2025-03-26T03:53:54.069Z"
   },
   {
    "duration": 1531,
    "start_time": "2025-03-26T03:53:55.000Z"
   },
   {
    "duration": 320,
    "start_time": "2025-03-26T03:53:56.534Z"
   },
   {
    "duration": 11,
    "start_time": "2025-03-26T03:53:56.856Z"
   },
   {
    "duration": 19,
    "start_time": "2025-03-26T03:53:56.868Z"
   },
   {
    "duration": 537,
    "start_time": "2025-03-26T03:54:05.531Z"
   },
   {
    "duration": 339476,
    "start_time": "2025-03-26T03:54:41.160Z"
   },
   {
    "duration": 109,
    "start_time": "2025-03-26T04:00:20.642Z"
   }
  ],
  "kernelspec": {
   "display_name": "Python 3 (ipykernel)",
   "language": "python",
   "name": "python3"
  },
  "language_info": {
   "codemirror_mode": {
    "name": "ipython",
    "version": 3
   },
   "file_extension": ".py",
   "mimetype": "text/x-python",
   "name": "python",
   "nbconvert_exporter": "python",
   "pygments_lexer": "ipython3",
   "version": "3.9.19"
  },
  "toc": {
   "base_numbering": 1,
   "nav_menu": {},
   "number_sections": true,
   "sideBar": true,
   "skip_h1_title": true,
   "title_cell": "Table of Contents",
   "title_sidebar": "Contents",
   "toc_cell": false,
   "toc_position": {
    "height": "calc(100% - 180px)",
    "left": "10px",
    "top": "150px",
    "width": "307.2px"
   },
   "toc_section_display": true,
   "toc_window_display": true
  }
 },
 "nbformat": 4,
 "nbformat_minor": 2
}
